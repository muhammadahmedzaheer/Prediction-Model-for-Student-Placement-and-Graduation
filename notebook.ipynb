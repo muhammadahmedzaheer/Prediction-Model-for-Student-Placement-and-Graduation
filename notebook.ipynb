{
  "nbformat": 4,
  "nbformat_minor": 0,
  "metadata": {
    "colab": {
      "provenance": []
    },
    "kernelspec": {
      "name": "python3",
      "display_name": "Python 3"
    },
    "language_info": {
      "name": "python"
    }
  },
  "cells": [
    {
      "cell_type": "code",
      "source": [
        "import pandas as pd\n",
        "import numpy as np\n",
        "from sklearn.model_selection import train_test_split\n",
        "from sklearn.preprocessing import LabelEncoder\n",
        "from sklearn.ensemble import RandomForestClassifier\n",
        "from sklearn.metrics import accuracy_score, classification_report, confusion_matrix\n",
        "from sklearn.model_selection import GridSearchCV\n",
        "from sklearn.impute import SimpleImputer\n",
        "import matplotlib.pyplot as plt\n",
        "\n",
        "# Load datasets\n",
        "train_df = pd.read_csv('01 Train Data.csv')\n",
        "test_df = pd.read_csv('02 Test Data.csv')\n",
        "\n",
        "# Handle missing values\n",
        "numeric_cols = ['CGPA', 'Speaking Skills', 'ML Knowledge']\n",
        "imputer = SimpleImputer(strategy='mean')\n",
        "\n",
        "# Fill missing values in numeric columns\n",
        "train_df[numeric_cols] = imputer.fit_transform(train_df[numeric_cols])\n",
        "test_df[numeric_cols] = imputer.transform(test_df[numeric_cols])\n",
        "\n",
        "# Fill missing values in other columns\n",
        "train_df = train_df.fillna('')\n",
        "test_df = test_df.fillna('')\n",
        "\n",
        "# Preprocess categorical features\n",
        "le_college_name = LabelEncoder()\n",
        "le_designation = LabelEncoder()\n",
        "le_placement_status = LabelEncoder()\n",
        "\n",
        "train_df['College Name'] = le_college_name.fit_transform(train_df['College Name'])\n",
        "test_df['College Name'] = le_college_name.transform(test_df['College Name'])\n",
        "train_df['Designation'] = le_designation.fit_transform(train_df['Designation'])\n",
        "test_df['Designation'] = le_designation.transform(test_df['Designation'])\n",
        "\n",
        "# Combine 'Placement Status' columns\n",
        "placement_statusCombined = pd.concat([train_df['Placement Status'], test_df['Placement Status']])\n",
        "\n",
        "# Handle NaN in 'Placement Status'\n",
        "placement_statusCombined = placement_statusCombined.fillna('Unknown')\n",
        "\n",
        "# Fit LabelEncoder on combined column\n",
        "le_placement_status.fit(placement_statusCombined)\n",
        "\n",
        "# Transform 'Placement Status' columns\n",
        "train_df['Placement Status'] = le_placement_status.transform(train_df['Placement Status'])\n",
        "test_df['Placement Status'] = le_placement_status.transform(test_df['Placement Status'])\n",
        "\n",
        "# Convert 'Year of Graduation' to numeric\n",
        "train_df['Year of Graduation'] = pd.to_numeric(train_df['Year of Graduation'], errors='coerce')\n",
        "test_df['Year of Graduation'] = pd.to_numeric(test_df['Year of Graduation'], errors='coerce')\n",
        "\n",
        "# Handle missing values in 'Year of Graduation'\n",
        "train_df['Year of Graduation'] = train_df['Year of Graduation'].fillna(train_df['Year of Graduation'].mean())\n",
        "test_df['Year of Graduation'] = test_df['Year of Graduation'].fillna(test_df['Year of Graduation'].mean())\n",
        "\n",
        "# Create new feature 'Years Since Graduation'\n",
        "train_df['Years Since Graduation'] = 2024 - train_df['Year of Graduation']\n",
        "test_df['Years Since Graduation'] = 2024 - test_df['Year of Graduation']\n",
        "\n",
        "# Define features and target variables\n",
        "features = ['College Name', 'Designation', 'CGPA', 'Speaking Skills', 'ML Knowledge', 'Years Since Graduation']\n",
        "target_placement = 'Placement Status'\n",
        "\n",
        "# Split data into training and testing sets\n",
        "X_train_placement, X_test_placement, y_train_placement, y_test_placement = train_test_split(\n",
        "    train_df[features],\n",
        "    train_df[target_placement],\n",
        "    test_size=0.2,\n",
        "    random_state=42,\n",
        "    stratify=train_df[target_placement]\n",
        ")\n",
        "\n",
        "# Check for missing values in training and test sets\n",
        "print(X_train_placement.isnull().sum())\n",
        "print(y_train_placement.isnull().sum())\n",
        "print(X_test_placement.isnull().sum())\n",
        "print(y_test_placement.isnull().sum())\n",
        "\n",
        "# Hyperparameter tuning using GridSearchCV\n",
        "param_grid = {\n",
        "    'n_estimators': [100, 200, 300],\n",
        "    'max_depth': [None, 5, 10],\n",
        "    'min_samples_split': [2, 5, 10],\n",
        "    'min_samples_leaf': [1, 5, 10]\n",
        "}\n",
        "\n",
        "grid_search = GridSearchCV(RandomForestClassifier(random_state=42), param_grid, cv=5, scoring='accuracy')\n",
        "grid_search.fit(X_train_placement, y_train_placement)\n",
        "\n",
        "# Train the best model\n",
        "best_model = grid_search.best_estimator_\n",
        "best_model.fit(X_train_placement, y_train_placement)\n",
        "\n",
        "# Make predictions\n",
        "placement_predictions = best_model.predict(test_df[features])\n",
        "\n",
        "# Transform predictions to show \"not placed\" or \"placed\"\n",
        "placement_predictions = ['placed' if x == 1 else 'not placed' for x in placement_predictions]\n",
        "\n",
        "# Save the predictions to a CSV file\n",
        "output_df = test_df.copy()\n",
        "output_df['Predicted Placement'] = placement_predictions\n",
        "output_df.to_csv('placement_predictions.csv', index=False)\n",
        "\n",
        "# Transform true labels to strings\n",
        "true_labels = ['placed' if x == 1 else 'not placed' for x in test_df[target_placement]]\n",
        "\n",
        "# Print the classification report\n",
        "print(\"Classification Report:\")\n",
        "print(classification_report(test_df[target_placement], best_model.predict(test_df[features]), zero_division=0))\n",
        "\n",
        "# Print the confusion matrix\n",
        "print(\"Confusion Matrix:\")\n",
        "print(confusion_matrix(test_df[target_placement], best_model.predict(test_df[features])))\n",
        "\n",
        "# Feature importance\n",
        "feature_importance = best_model.feature_importances_\n",
        "print(\"Feature Importances:\")\n",
        "for feature, importance in zip(features, feature_importance):\n",
        "    print(f\"{feature}: {importance:.2f}\")\n",
        "\n",
        "accuracy = accuracy_score(test_df[target_placement], best_model.predict(test_df[features]))\n",
        "print(\"Accuracy:\", accuracy)\n",
        "accuracy_percentage = accuracy * 100\n",
        "print(\"Accuracy (%):\", accuracy_percentage)\n",
        "\n",
        "# Plot feature importance\n",
        "plt.figure(figsize=(10, 6))\n",
        "plt.bar(features, feature_importance)\n",
        "plt.xlabel('Feature')\n",
        "plt.ylabel('Importance Score')\n",
        "plt.title('Feature Importances')\n",
        "plt.savefig('feature_importances_plot.png')\n",
        "\n",
        "print(\"Code execution completed successfully!\")"
      ],
      "metadata": {
        "colab": {
          "base_uri": "https://localhost:8080/",
          "height": 1000
        },
        "id": "m2w90yEAFpI_",
        "outputId": "decedd8a-fd1e-4cf9-9bbb-dd6a81b92e71"
      },
      "execution_count": 6,
      "outputs": [
        {
          "output_type": "stream",
          "name": "stdout",
          "text": [
            "College Name              0\n",
            "Designation               0\n",
            "CGPA                      0\n",
            "Speaking Skills           0\n",
            "ML Knowledge              0\n",
            "Years Since Graduation    0\n",
            "dtype: int64\n",
            "0\n",
            "College Name              0\n",
            "Designation               0\n",
            "CGPA                      0\n",
            "Speaking Skills           0\n",
            "ML Knowledge              0\n",
            "Years Since Graduation    0\n",
            "dtype: int64\n",
            "0\n",
            "Classification Report:\n",
            "              precision    recall  f1-score   support\n",
            "\n",
            "           0       1.00      0.96      0.98      3796\n",
            "           1       0.00      0.00      0.00         0\n",
            "\n",
            "    accuracy                           0.96      3796\n",
            "   macro avg       0.50      0.48      0.49      3796\n",
            "weighted avg       1.00      0.96      0.98      3796\n",
            "\n",
            "Confusion Matrix:\n",
            "[[3628  168]\n",
            " [   0    0]]\n",
            "Feature Importances:\n",
            "College Name: 0.66\n",
            "Designation: 0.14\n",
            "CGPA: 0.02\n",
            "Speaking Skills: 0.03\n",
            "ML Knowledge: 0.03\n",
            "Years Since Graduation: 0.12\n",
            "Accuracy: 0.9557428872497366\n",
            "Accuracy (%): 95.57428872497366\n",
            "Code execution completed successfully!\n"
          ]
        },
        {
          "output_type": "display_data",
          "data": {
            "text/plain": [
              "<Figure size 1000x600 with 1 Axes>"
            ],
            "image/png": "[encoded data removed]"
          },
          "metadata": {}
        }
      ]
    },
    {
      "cell_type": "code",
      "source": [
        "from google.colab import files\n",
        "\n",
        "# Download the CSV file\n",
        "files.download('placement_predictions.csv')\n",
        "\n",
        "# Download the PNG file\n",
        "files.download('feature_importances_plot.png')"
      ],
      "metadata": {
        "colab": {
          "base_uri": "https://localhost:8080/",
          "height": 37
        },
        "id": "g3uLYCZ8FtjN",
        "outputId": "8f0ad2aa-89da-48f5-a681-aac2b0bf1f3d"
      },
      "execution_count": 7,
      "outputs": [
        {
          "output_type": "display_data",
          "data": {
            "text/plain": [
              "<IPython.core.display.Javascript object>"
            ],
            "application/javascript": [
              "\n",
              "    async function download(id, filename, size) {\n",
              "      if (!google.colab.kernel.accessAllowed) {\n",
              "        return;\n",
              "      }\n",
              "      const div = document.createElement('div');\n",
              "      const label = document.createElement('label');\n",
              "      label.textContent = `Downloading \"${filename}\": `;\n",
              "      div.appendChild(label);\n",
              "      const progress = document.createElement('progress');\n",
              "      progress.max = size;\n",
              "      div.appendChild(progress);\n",
              "      document.body.appendChild(div);\n",
              "\n",
              "      const buffers = [];\n",
              "      let downloaded = 0;\n",
              "\n",
              "      const channel = await google.colab.kernel.comms.open(id);\n",
              "      // Send a message to notify the kernel that we're ready.\n",
              "      channel.send({})\n",
              "\n",
              "      for await (const message of channel.messages) {\n",
              "        // Send a message to notify the kernel that we're ready.\n",
              "        channel.send({})\n",
              "        if (message.buffers) {\n",
              "          for (const buffer of message.buffers) {\n",
              "            buffers.push(buffer);\n",
              "            downloaded += buffer.byteLength;\n",
              "            progress.value = downloaded;\n",
              "          }\n",
              "        }\n",
              "      }\n",
              "      const blob = new Blob(buffers, {type: 'application/binary'});\n",
              "      const a = document.createElement('a');\n",
              "      a.href = window.URL.createObjectURL(blob);\n",
              "      a.download = filename;\n",
              "      div.appendChild(a);\n",
              "      a.click();\n",
              "      div.remove();\n",
              "    }\n",
              "  "
            ]
          },
          "metadata": {}
        },
        {
          "output_type": "display_data",
          "data": {
            "text/plain": [
              "<IPython.core.display.Javascript object>"
            ],
            "application/javascript": [
              "download(\"download_f6425862-ca13-4ece-a593-f5f4d75739fb\", \"placement_predictions.csv\", 670915)"
            ]
          },
          "metadata": {}
        },
        {
          "output_type": "display_data",
          "data": {
            "text/plain": [
              "<IPython.core.display.Javascript object>"
            ],
            "application/javascript": [
              "\n",
              "    async function download(id, filename, size) {\n",
              "      if (!google.colab.kernel.accessAllowed) {\n",
              "        return;\n",
              "      }\n",
              "      const div = document.createElement('div');\n",
              "      const label = document.createElement('label');\n",
              "      label.textContent = `Downloading \"${filename}\": `;\n",
              "      div.appendChild(label);\n",
              "      const progress = document.createElement('progress');\n",
              "      progress.max = size;\n",
              "      div.appendChild(progress);\n",
              "      document.body.appendChild(div);\n",
              "\n",
              "      const buffers = [];\n",
              "      let downloaded = 0;\n",
              "\n",
              "      const channel = await google.colab.kernel.comms.open(id);\n",
              "      // Send a message to notify the kernel that we're ready.\n",
              "      channel.send({})\n",
              "\n",
              "      for await (const message of channel.messages) {\n",
              "        // Send a message to notify the kernel that we're ready.\n",
              "        channel.send({})\n",
              "        if (message.buffers) {\n",
              "          for (const buffer of message.buffers) {\n",
              "            buffers.push(buffer);\n",
              "            downloaded += buffer.byteLength;\n",
              "            progress.value = downloaded;\n",
              "          }\n",
              "        }\n",
              "      }\n",
              "      const blob = new Blob(buffers, {type: 'application/binary'});\n",
              "      const a = document.createElement('a');\n",
              "      a.href = window.URL.createObjectURL(blob);\n",
              "      a.download = filename;\n",
              "      div.appendChild(a);\n",
              "      a.click();\n",
              "      div.remove();\n",
              "    }\n",
              "  "
            ]
          },
          "metadata": {}
        },
        {
          "output_type": "display_data",
          "data": {
            "text/plain": [
              "<IPython.core.display.Javascript object>"
            ],
            "application/javascript": [
              "download(\"download_ebd46dab-090c-4136-85d5-f8c3a20d978c\", \"feature_importances_plot.png\", 24908)"
            ]
          },
          "metadata": {}
        }
      ]
    },
    {
      "cell_type": "code",
      "execution_count": 3,
      "metadata": {
        "colab": {
          "base_uri": "https://localhost:8080/"
        },
        "id": "ir3EWnU6BkJS",
        "outputId": "47a26275-2ad3-48fd-e563-277a5fb4a047"
      },
      "outputs": [
        {
          "output_type": "stream",
          "name": "stderr",
          "text": [
            "<ipython-input-3-0bb54e7024e9>:12: UserWarning: Could not infer format, so each element will be parsed individually, falling back to `dateutil`. To ensure parsing is consistent and as-expected, please specify a format.\n",
            "  data['Created'] = pd.to_datetime(data['Created'])\n"
          ]
        },
        {
          "output_type": "stream",
          "name": "stdout",
          "text": [
            "Mean Squared Error (MSE): 0.29\n",
            "Mean Absolute Error (MAE): 0.29\n",
            "R-Squared (R2): 0.58\n",
            "0       2021\n",
            "1       2022\n",
            "2       2021\n",
            "3       2021\n",
            "4       2023\n",
            "        ... \n",
            "5298    2021\n",
            "5299    2021\n",
            "5300    2021\n",
            "5301    2020\n",
            "5302    2020\n",
            "Name: Forecasted Graduation Year, Length: 5303, dtype: int64\n"
          ]
        }
      ],
      "source": [
        "import pandas as pd\n",
        "from sklearn.model_selection import train_test_split, GridSearchCV\n",
        "from sklearn.ensemble import RandomForestRegressor\n",
        "from sklearn.metrics import mean_squared_error, mean_absolute_error, r2_score\n",
        "from sklearn.preprocessing import LabelEncoder\n",
        "import numpy as np\n",
        "\n",
        "# Load the dataset\n",
        "data = pd.read_csv('Final Lead Data.csv')\n",
        "\n",
        "# Convert the 'Created' column to datetime\n",
        "data['Created'] = pd.to_datetime(data['Created'])\n",
        "\n",
        "# Extract the year from the 'Created' column\n",
        "data['Created Year'] = data['Created'].dt.year\n",
        "\n",
        "# Handle missing values in the Academic Year column (Consider filling with a mode)\n",
        "data['Academic Year'] = data['Academic Year'].fillna(data['Academic Year'].mode()[0])\n",
        "\n",
        "# Preprocess categorical features\n",
        "data['New College Name'] = LabelEncoder().fit_transform(data['New College Name'])\n",
        "data['Branch/ Specialisation'] = LabelEncoder().fit_transform(data['Branch/ Specialisation'])\n",
        "\n",
        "# Define the features (X) and target (y)\n",
        "X = data[['New College Name', 'Academic Year', 'Branch/ Specialisation']]\n",
        "y = data['Created Year'] + (4 - data['Academic Year'])\n",
        "\n",
        "# Split the data into training and testing sets\n",
        "X_train, X_test, y_train, y_test = train_test_split(X, y, test_size=0.2, random_state=42)\n",
        "\n",
        "# Define the hyperparameter grid for GridSearchCV\n",
        "param_grid = {\n",
        "    'n_estimators': [100, 200, 300],\n",
        "    'max_features': ['sqrt', 'log2'],\n",
        "    'max_depth': [None, 5, 10],\n",
        "    'min_samples_split': [2, 5],\n",
        "    'min_samples_leaf': [1, 5]\n",
        "}\n",
        "\n",
        "# Initialize the Random Forest Regressor model\n",
        "model = RandomForestRegressor(random_state=42)\n",
        "\n",
        "# Perform grid search with cross-validation\n",
        "grid_search = GridSearchCV(model, param_grid, cv=5, scoring='neg_mean_squared_error')\n",
        "grid_search.fit(X_train, y_train)\n",
        "\n",
        "# Use the best model to make predictions and round to nearest whole number\n",
        "y_pred = grid_search.best_estimator_.predict(X_test).round().astype(int)\n",
        "\n",
        "# Evaluate the model using various metrics\n",
        "mse = mean_squared_error(y_test, y_pred)\n",
        "mae = mean_absolute_error(y_test, y_pred)\n",
        "r2 = r2_score(y_test, y_pred)\n",
        "print(f'Mean Squared Error (MSE): {mse:.2f}')\n",
        "print(f'Mean Absolute Error (MAE): {mae:.2f}')\n",
        "print(f'R-Squared (R2): {r2:.2f}')\n",
        "\n",
        "# Use the trained model to forecast graduation year for all data and round to nearest whole number\n",
        "forecasted_graduation_year = grid_search.best_estimator_.predict(X).round().astype(int)\n",
        "\n",
        "# Create a new DataFrame with all columns and the predicted graduation year\n",
        "output_df = data.copy()\n",
        "output_df['Forecasted Graduation Year'] = pd.Series(forecasted_graduation_year).fillna(0).astype(int)\n",
        "\n",
        "# Ensure no forecasted year is zero by recalculating where necessary\n",
        "output_df.loc[output_df['Forecasted Graduation Year'] == 0, 'Forecasted Graduation Year'] = (\n",
        "    output_df['Created Year'] + (4 - output_df['Academic Year'])\n",
        ")\n",
        "\n",
        "# Verify the changes\n",
        "print(output_df['Forecasted Graduation Year'])\n",
        "\n",
        "# Write the output DataFrame to a CSV file\n",
        "output_df.to_csv('predicted_graduation_year.csv', index=False)"
      ]
    },
    {
      "cell_type": "code",
      "source": [
        "from google.colab import files\n",
        "\n",
        "# Download the CSV file\n",
        "files.download('predicted_graduation_year.csv')"
      ],
      "metadata": {
        "colab": {
          "base_uri": "https://localhost:8080/",
          "height": 37
        },
        "id": "oGzlu488FiQt",
        "outputId": "7f4e20b0-db1d-495b-8ed9-4bdb2d45309e"
      },
      "execution_count": 4,
      "outputs": [
        {
          "output_type": "display_data",
          "data": {
            "text/plain": [
              "<IPython.core.display.Javascript object>"
            ],
            "application/javascript": [
              "\n",
              "    async function download(id, filename, size) {\n",
              "      if (!google.colab.kernel.accessAllowed) {\n",
              "        return;\n",
              "      }\n",
              "      const div = document.createElement('div');\n",
              "      const label = document.createElement('label');\n",
              "      label.textContent = `Downloading \"${filename}\": `;\n",
              "      div.appendChild(label);\n",
              "      const progress = document.createElement('progress');\n",
              "      progress.max = size;\n",
              "      div.appendChild(progress);\n",
              "      document.body.appendChild(div);\n",
              "\n",
              "      const buffers = [];\n",
              "      let downloaded = 0;\n",
              "\n",
              "      const channel = await google.colab.kernel.comms.open(id);\n",
              "      // Send a message to notify the kernel that we're ready.\n",
              "      channel.send({})\n",
              "\n",
              "      for await (const message of channel.messages) {\n",
              "        // Send a message to notify the kernel that we're ready.\n",
              "        channel.send({})\n",
              "        if (message.buffers) {\n",
              "          for (const buffer of message.buffers) {\n",
              "            buffers.push(buffer);\n",
              "            downloaded += buffer.byteLength;\n",
              "            progress.value = downloaded;\n",
              "          }\n",
              "        }\n",
              "      }\n",
              "      const blob = new Blob(buffers, {type: 'application/binary'});\n",
              "      const a = document.createElement('a');\n",
              "      a.href = window.URL.createObjectURL(blob);\n",
              "      a.download = filename;\n",
              "      div.appendChild(a);\n",
              "      a.click();\n",
              "      div.remove();\n",
              "    }\n",
              "  "
            ]
          },
          "metadata": {}
        },
        {
          "output_type": "display_data",
          "data": {
            "text/plain": [
              "<IPython.core.display.Javascript object>"
            ],
            "application/javascript": [
              "download(\"download_278ef52e-a6e3-47f3-826a-5fc72cc4e3ef\", \"predicted_graduation_year.csv\", 546270)"
            ]
          },
          "metadata": {}
        }
      ]
    }
  ]
}